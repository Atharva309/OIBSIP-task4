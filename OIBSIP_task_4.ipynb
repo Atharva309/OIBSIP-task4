{
  "nbformat": 4,
  "nbformat_minor": 0,
  "metadata": {
    "colab": {
      "provenance": [],
      "authorship_tag": "ABX9TyMvOdum6Z2dOOX/5pN+ItIa"
    },
    "kernelspec": {
      "name": "python3",
      "display_name": "Python 3"
    },
    "language_info": {
      "name": "python"
    }
  },
  "cells": [
    {
      "cell_type": "code",
      "execution_count": 7,
      "metadata": {
        "colab": {
          "base_uri": "https://localhost:8080/"
        },
        "id": "hIjL9DcTmipv",
        "outputId": "4cb7fa05-0adb-45f7-9ee7-4b60cdcefed3"
      },
      "outputs": [
        {
          "output_type": "stream",
          "name": "stdout",
          "text": [
            "Accuracy: 0.9838565022421525\n",
            "Classification Report:\n",
            "              precision    recall  f1-score   support\n",
            "\n",
            "         ham       0.98      1.00      0.99       965\n",
            "        spam       0.99      0.89      0.94       150\n",
            "\n",
            "    accuracy                           0.98      1115\n",
            "   macro avg       0.98      0.95      0.96      1115\n",
            "weighted avg       0.98      0.98      0.98      1115\n",
            "\n"
          ]
        }
      ],
      "source": [
        "# Using Naive Bayes classifier\n",
        "\n",
        "import pandas as pd\n",
        "from sklearn.feature_extraction.text import CountVectorizer\n",
        "from sklearn.model_selection import train_test_split\n",
        "from sklearn.naive_bayes import MultinomialNB\n",
        "from sklearn.metrics import accuracy_score, classification_report\n",
        "\n",
        "# Load the dataset\n",
        "data = pd.read_csv(\"spam.csv\", encoding=\"ISO-8859-1\")\n",
        "data = data[[\"v1\", \"v2\"]]\n",
        "data.columns = [\"label\", \"text\"]\n",
        "\n",
        "# Convert labels to binary\n",
        "data[\"label\"] = data[\"label\"].map({\"spam\": 1, \"ham\": 0})\n",
        "\n",
        "# Split the data into training and testing sets\n",
        "X_train, X_test, y_train, y_test = train_test_split(data[\"text\"], data[\"label\"], test_size=0.2, random_state=42)\n",
        "\n",
        "# Vectorize the text data\n",
        "vectorizer = CountVectorizer()\n",
        "X_train_vec = vectorizer.fit_transform(X_train)\n",
        "X_test_vec = vectorizer.transform(X_test)\n",
        "\n",
        "# Train the Naive Bayes classifier\n",
        "model = MultinomialNB()\n",
        "model.fit(X_train_vec, y_train)\n",
        "\n",
        "# Make predictions on the testing set\n",
        "y_pred = model.predict(X_test_vec)\n",
        "\n",
        "# Calculate accuracy and print classification report\n",
        "accuracy = accuracy_score(y_test, y_pred)\n",
        "report = classification_report(y_test, y_pred, target_names=[\"ham\", \"spam\"])\n",
        "\n",
        "print(\"Accuracy:\", accuracy)\n",
        "print(\"Classification Report:\")\n",
        "print(report)\n"
      ]
    },
    {
      "cell_type": "code",
      "source": [
        "# Test on own input\n",
        "\n",
        "# Preprocess the input\n",
        "input_text = \"Congratulations, you've won a free vacation to Bali! Click here to claim your ticket discount codes!\"\n",
        "input_text = input_text.lower()\n",
        "input_vec = vectorizer.transform([input_text])\n",
        "\n",
        "# Make a prediction\n",
        "prediction = model.predict(input_vec)\n",
        "\n",
        "# Interpret the prediction\n",
        "if prediction[0] == 1:\n",
        "    print(\"Input text is classified as Spam\")\n",
        "else:\n",
        "    print(\"Input text is classified as Not Spam\")\n"
      ],
      "metadata": {
        "colab": {
          "base_uri": "https://localhost:8080/"
        },
        "id": "MHN3I8Y3nBX0",
        "outputId": "40a155ec-2538-4bb2-ed3b-101717c97f4d"
      },
      "execution_count": 12,
      "outputs": [
        {
          "output_type": "stream",
          "name": "stdout",
          "text": [
            "Input text is classified as Spam\n"
          ]
        }
      ]
    },
    {
      "cell_type": "code",
      "source": [
        "# Test on own input\n",
        "\n",
        "# Preprocess the input\n",
        "input_text = \"ive made chicken curry for dinner\"\n",
        "input_text = input_text.lower()\n",
        "input_vec = vectorizer.transform([input_text])\n",
        "\n",
        "# Make a prediction\n",
        "prediction = model.predict(input_vec)\n",
        "\n",
        "# Interpret the prediction\n",
        "if prediction[0] == 1:\n",
        "    print(\"Input text is classified as Spam\")\n",
        "else:\n",
        "    print(\"Input text is classified as Not Spam\")\n"
      ],
      "metadata": {
        "colab": {
          "base_uri": "https://localhost:8080/"
        },
        "id": "JkyeEgGvnqN6",
        "outputId": "840f64b7-f99f-4ac1-a6c1-9084ccba5ede"
      },
      "execution_count": 13,
      "outputs": [
        {
          "output_type": "stream",
          "name": "stdout",
          "text": [
            "Input text is classified as Not Spam\n"
          ]
        }
      ]
    }
  ]
}